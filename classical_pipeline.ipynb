{
 "cells": [
  {
   "cell_type": "markdown",
   "id": "c4f9db08",
   "metadata": {},
   "source": [
    "# Classical pipeline"
   ]
  },
  {
   "cell_type": "code",
   "execution_count": 4,
   "id": "9f3b7eae",
   "metadata": {},
   "outputs": [],
   "source": [
    "import os\n",
    "os.environ[\"TOKENIZERS_PARALLELISM\"] = \"false\""
   ]
  },
  {
   "cell_type": "code",
   "execution_count": 5,
   "id": "0b18693f",
   "metadata": {},
   "outputs": [],
   "source": [
    "import torch\n",
    "\n",
    "BATCH_SIZE = 30\n",
    "EPOCHS = 25\n",
    "LEARNING_RATE = 3e-2\n",
    "SEED = 0\n",
    "len_dataset = 300"
   ]
  },
  {
   "cell_type": "markdown",
   "id": "5fb2763d",
   "metadata": {
    "tags": []
   },
   "source": [
    "### Input data"
   ]
  },
  {
   "cell_type": "code",
   "execution_count": 6,
   "id": "013491b7",
   "metadata": {},
   "outputs": [],
   "source": [
    "import pandas as pd\n",
    "\n",
    "train_split = int(len_dataset * 0.8)\n",
    "val_split = int(len_dataset * 0.9)\n",
    "test_split = int(len_dataset)\n",
    "\n",
    "df = pd.read_csv('./datasets/sentiment_with_connector' + '.csv')\n",
    "df.head()\n",
    "df_negative = df[df['labels'] == 0]\n",
    "df_positive = df[df['labels'] == 1]\n",
    "df_negative = df_negative.sample(frac=1).reset_index(drop=True)\n",
    "df_positive = df_positive.sample(frac=1).reset_index(drop=True)\n",
    "\n",
    "df_positive = df_positive[:int(len_dataset/2)]\n",
    "df_negative = df_negative[:int(len_dataset/2)]\n",
    "\n",
    "df_final = pd.concat([df_positive, df_negative])\n",
    "\n",
    "data = list(df_final['sentences'])\n",
    "labels_raw = list(df_final['labels'])\n",
    "\n",
    "labels = [[x, 1-x] for x in labels_raw]\n",
    "\n",
    "train_data = data[:train_split]\n",
    "dev_data = data[train_split:val_split]\n",
    "test_data = data[val_split:test_split]\n",
    "\n",
    "train_labels = labels[:train_split]\n",
    "dev_labels = labels[train_split:val_split]\n",
    "test_labels = labels[val_split:test_split]"
   ]
  },
  {
   "cell_type": "markdown",
   "id": "4342424e",
   "metadata": {},
   "source": [
    "### Create diagrams"
   ]
  },
  {
   "cell_type": "code",
   "execution_count": 8,
   "id": "ca3b546e",
   "metadata": {},
   "outputs": [
    {
     "name": "stderr",
     "output_type": "stream",
     "text": [
      "Tagging sentences.\n",
      "Parsing tagged sentences.\n",
      "Turning parse trees to diagrams.\n",
      "Tagging sentences.\n",
      "Parsing tagged sentences.\n",
      "Turning parse trees to diagrams.\n",
      "Tagging sentences.\n",
      "Parsing tagged sentences.\n",
      "Turning parse trees to diagrams.\n"
     ]
    }
   ],
   "source": [
    "from lambeq import BobcatParser\n",
    "\n",
    "reader = BobcatParser(verbose='text')\n",
    "\n",
    "train_diagrams = reader.sentences2diagrams(train_data)\n",
    "dev_diagrams = reader.sentences2diagrams(dev_data)\n",
    "test_diagrams = reader.sentences2diagrams(test_data)"
   ]
  },
  {
   "cell_type": "markdown",
   "id": "f6c72095",
   "metadata": {},
   "source": [
    "### Create circuits"
   ]
  },
  {
   "cell_type": "code",
   "execution_count": 9,
   "id": "65711bc2",
   "metadata": {},
   "outputs": [
    {
     "data": {
      "image/png": "[encoded data removed]",
      "text/plain": [
       "<Figure size 432x288 with 1 Axes>"
      ]
     },
     "metadata": {},
     "output_type": "display_data"
    }
   ],
   "source": [
    "from discopy import Dim\n",
    "\n",
    "from lambeq import AtomicType, SpiderAnsatz\n",
    "\n",
    "ansatz = SpiderAnsatz({AtomicType.NOUN: Dim(2),\n",
    "                       AtomicType.SENTENCE: Dim(2)})\n",
    "\n",
    "train_circuits = [ansatz(diagram) for diagram in train_diagrams]\n",
    "dev_circuits =  [ansatz(diagram) for diagram in dev_diagrams]\n",
    "test_circuits = [ansatz(diagram) for diagram in test_diagrams]\n",
    "\n",
    "train_circuits[0].draw()"
   ]
  },
  {
   "cell_type": "markdown",
   "id": "855d3592",
   "metadata": {},
   "source": [
    "### Parameterise"
   ]
  },
  {
   "cell_type": "code",
   "execution_count": 10,
   "id": "c57bb903",
   "metadata": {},
   "outputs": [],
   "source": [
    "from lambeq import PytorchModel\n",
    "all_circuits = train_circuits + dev_circuits + test_circuits\n",
    "model = PytorchModel.from_diagrams(all_circuits)"
   ]
  },
  {
   "cell_type": "markdown",
   "id": "80f3a71d",
   "metadata": {},
   "source": [
    "### Define Evaluation Metric"
   ]
  },
  {
   "cell_type": "code",
   "execution_count": 11,
   "id": "c2ff8c1a",
   "metadata": {},
   "outputs": [],
   "source": [
    "sig = torch.sigmoid\n",
    "\n",
    "def accuracy(y_hat, y):\n",
    "    return torch.sum(torch.eq(torch.round(sig(y_hat)), y))/len(y)/2  # half due to double-counting"
   ]
  },
  {
   "cell_type": "markdown",
   "id": "c91d4aa5",
   "metadata": {},
   "source": [
    "### Initialize Trainer"
   ]
  },
  {
   "cell_type": "code",
   "execution_count": 12,
   "id": "62b233ea",
   "metadata": {},
   "outputs": [],
   "source": [
    "from lambeq import PytorchTrainer\n",
    "\n",
    "trainer = PytorchTrainer(\n",
    "        model=model,\n",
    "        loss_function=torch.nn.BCEWithLogitsLoss(),\n",
    "        optimizer=torch.optim.AdamW,    # type: ignore\n",
    "        learning_rate=LEARNING_RATE,\n",
    "        epochs=EPOCHS,\n",
    "        evaluate_functions={\"acc\": accuracy},\n",
    "        evaluate_on_train=True,\n",
    "        verbose='text',\n",
    "        seed=SEED)"
   ]
  },
  {
   "cell_type": "code",
   "execution_count": 13,
   "id": "a6b9bd02",
   "metadata": {},
   "outputs": [],
   "source": [
    "from lambeq import Dataset\n",
    "\n",
    "train_dataset = Dataset(\n",
    "            train_circuits,\n",
    "            train_labels,\n",
    "            batch_size=BATCH_SIZE)\n",
    "\n",
    "dev_dataset = Dataset(dev_circuits, dev_labels)"
   ]
  },
  {
   "cell_type": "markdown",
   "id": "359fb69e",
   "metadata": {},
   "source": [
    "### Train"
   ]
  },
  {
   "cell_type": "code",
   "execution_count": 14,
   "id": "1cc8ea2d",
   "metadata": {},
   "outputs": [
    {
     "name": "stderr",
     "output_type": "stream",
     "text": [
      "Epoch 1:   train/loss: 0.6915   valid/loss: 0.7114   train/acc: 0.5292   valid/acc: 0.1833\n",
      "Epoch 5:   train/loss: 0.0002   valid/loss: 0.0000   train/acc: 1.0000   valid/acc: 1.0000\n",
      "Epoch 10:  train/loss: 0.0000   valid/loss: 0.0000   train/acc: 1.0000   valid/acc: 1.0000\n",
      "Epoch 15:  train/loss: 0.0000   valid/loss: 0.0000   train/acc: 1.0000   valid/acc: 1.0000\n",
      "Epoch 20:  train/loss: 0.0000   valid/loss: 0.0000   train/acc: 1.0000   valid/acc: 1.0000\n",
      "Epoch 25:  train/loss: 0.0000   valid/loss: 0.0000   train/acc: 1.0000   valid/acc: 1.0000\n",
      "\n",
      "Training completed!\n"
     ]
    }
   ],
   "source": [
    "trainer.fit(train_dataset, dev_dataset, logging_step=5)"
   ]
  },
  {
   "cell_type": "markdown",
   "id": "2c2cd25d",
   "metadata": {},
   "source": [
    "### Show results"
   ]
  },
  {
   "cell_type": "code",
   "execution_count": 15,
   "id": "54ca40af",
   "metadata": {},
   "outputs": [
    {
     "name": "stdout",
     "output_type": "stream",
     "text": [
      "Test accuracy: 1.0\n"
     ]
    },
    {
     "data": {
      "image/png": "[encoded data removed]",
      "text/plain": [
       "<Figure size 720x432 with 4 Axes>"
      ]
     },
     "metadata": {
      "needs_background": "light"
     },
     "output_type": "display_data"
    }
   ],
   "source": [
    "import matplotlib.pyplot as plt\n",
    "\n",
    "fig1, ((ax_tl, ax_tr), (ax_bl, ax_br)) = plt.subplots(2, 2, sharey='row', figsize=(10, 6))\n",
    "\n",
    "ax_tl.set_title('Training set')\n",
    "ax_tr.set_title('Development set')\n",
    "ax_bl.set_xlabel('Epochs')\n",
    "ax_br.set_xlabel('Epochs')\n",
    "ax_bl.set_ylabel('Accuracy')\n",
    "ax_tl.set_ylabel('Loss')\n",
    "\n",
    "colours = iter(plt.rcParams['axes.prop_cycle'].by_key()['color'])\n",
    "ax_tl.plot(trainer.train_epoch_costs, color=next(colours))\n",
    "ax_bl.plot(trainer.train_results['acc'], color=next(colours))\n",
    "ax_tr.plot(trainer.val_costs, color=next(colours))\n",
    "ax_br.plot(trainer.val_results['acc'], color=next(colours))\n",
    "\n",
    "# print test accuracy\n",
    "test_acc = accuracy(model.forward(test_circuits), torch.tensor(test_labels))\n",
    "print('Test accuracy:', test_acc.item())"
   ]
  }
 ],
 "metadata": {
  "kernelspec": {
   "display_name": "lambeq",
   "language": "python",
   "name": "lambeq"
  },
  "language_info": {
   "codemirror_mode": {
    "name": "ipython",
    "version": 3
   },
   "file_extension": ".py",
   "mimetype": "text/x-python",
   "name": "python",
   "nbconvert_exporter": "python",
   "pygments_lexer": "ipython3",
   "version": "3.8.13"
  }
 },
 "nbformat": 4,
 "nbformat_minor": 5
}
