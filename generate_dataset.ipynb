{
 "cells": [
  {
   "cell_type": "code",
   "execution_count": 1,
   "id": "3aa088de-cb01-4653-b7d2-4d3cb80cf386",
   "metadata": {},
   "outputs": [],
   "source": [
    "names = ['John', 'Mary', 'Bob', 'Louis', 'Igor', 'Mike', 'Patricia', 'James', 'Lisa', 'Ashley', 'Carol', 'Brenda']\n",
    "verbs = ['is', 'are', 'have', 'has', 'be']\n",
    "positive_adjectives = ['cheerful', 'contented', 'delighted', 'glad', 'satisfied', 'thrilled', 'pleased']\n",
    "negative_adjectives = ['unhappy', 'bitter', 'dismal', 'heartbroken', 'melancholy', 'mournful', 'somber', 'sorrowful']\n",
    "connectors = ['and']"
   ]
  },
  {
   "cell_type": "code",
   "execution_count": 2,
   "id": "d263fdda-d896-4de5-ab2b-645fa42ae11e",
   "metadata": {},
   "outputs": [],
   "source": [
    "import random\n",
    "import pandas as pd\n",
    "\n",
    "def generate_dataset(names, verbs, positive_adjectives, negative_adjectives, connectors):\n",
    "    labels = []\n",
    "    sentences = []\n",
    "    sep = ' '\n",
    "    for name1 in names:\n",
    "        for name2 in names:\n",
    "            if name1 != name2:  \n",
    "                for pos_adj in positive_adjectives:\n",
    "                    sentence = name1 + sep + connectors[0] + sep + name2 + sep + verbs[1] + sep + pos_adj + sep + '.'\n",
    "                    label = 1\n",
    "                    sentences.append(sentence)\n",
    "                    labels.append(label)\n",
    "                for neg_adj in negative_adjectives:\n",
    "                    sentence = name1 + sep + connectors[0] + sep + name2 + sep + verbs[1] + sep + neg_adj + sep + '.'\n",
    "                    label = 0\n",
    "                    sentences.append(sentence)\n",
    "                    labels.append(label)\n",
    "    return labels, sentences"
   ]
  },
  {
   "cell_type": "code",
   "execution_count": 8,
   "id": "fda8444a-9881-49d5-9ce4-d05682f421a2",
   "metadata": {},
   "outputs": [
    {
     "name": "stdout",
     "output_type": "stream",
     "text": [
      "Start Generating Dataset\n",
      "End Generating Dataset\n"
     ]
    }
   ],
   "source": [
    "labels, sentences = generate_dataset(names, verbs, positive_adjectives, negative_adjectives, connectors)\n",
    "d = { 'labels': labels, 'sentences': sentences}\n",
    "df = pd.DataFrame(d)\n",
    "df.to_csv('./datasets/sentiment_with_connector.csv', index=False)"
   ]
  },
  {
   "cell_type": "code",
   "execution_count": 7,
   "id": "350fd3c0-79e1-44c6-b8f8-bf604218ce40",
   "metadata": {},
   "outputs": [
    {
     "data": {
      "text/html": [
       "<div>\n",
       "<style scoped>\n",
       "    .dataframe tbody tr th:only-of-type {\n",
       "        vertical-align: middle;\n",
       "    }\n",
       "\n",
       "    .dataframe tbody tr th {\n",
       "        vertical-align: top;\n",
       "    }\n",
       "\n",
       "    .dataframe thead th {\n",
       "        text-align: right;\n",
       "    }\n",
       "</style>\n",
       "<table border=\"1\" class=\"dataframe\">\n",
       "  <thead>\n",
       "    <tr style=\"text-align: right;\">\n",
       "      <th></th>\n",
       "      <th>labels</th>\n",
       "      <th>sentences</th>\n",
       "    </tr>\n",
       "  </thead>\n",
       "  <tbody>\n",
       "    <tr>\n",
       "      <th>0</th>\n",
       "      <td>1</td>\n",
       "      <td>John and Mary are cheerful .</td>\n",
       "    </tr>\n",
       "    <tr>\n",
       "      <th>1</th>\n",
       "      <td>1</td>\n",
       "      <td>John and Mary are contented .</td>\n",
       "    </tr>\n",
       "    <tr>\n",
       "      <th>2</th>\n",
       "      <td>1</td>\n",
       "      <td>John and Mary are delighted .</td>\n",
       "    </tr>\n",
       "    <tr>\n",
       "      <th>3</th>\n",
       "      <td>1</td>\n",
       "      <td>John and Mary are glad .</td>\n",
       "    </tr>\n",
       "    <tr>\n",
       "      <th>4</th>\n",
       "      <td>1</td>\n",
       "      <td>John and Mary are satisfied .</td>\n",
       "    </tr>\n",
       "  </tbody>\n",
       "</table>\n",
       "</div>"
      ],
      "text/plain": [
       "   labels                      sentences\n",
       "0       1   John and Mary are cheerful .\n",
       "1       1  John and Mary are contented .\n",
       "2       1  John and Mary are delighted .\n",
       "3       1       John and Mary are glad .\n",
       "4       1  John and Mary are satisfied ."
      ]
     },
     "execution_count": 7,
     "metadata": {},
     "output_type": "execute_result"
    }
   ],
   "source": [
    "df.head()"
   ]
  },
  {
   "cell_type": "code",
   "execution_count": null,
   "id": "a75e30f6-a175-4b7a-865c-29319d024610",
   "metadata": {},
   "outputs": [],
   "source": []
  }
 ],
 "metadata": {
  "kernelspec": {
   "display_name": "lambeq",
   "language": "python",
   "name": "lambeq"
  },
  "language_info": {
   "codemirror_mode": {
    "name": "ipython",
    "version": 3
   },
   "file_extension": ".py",
   "mimetype": "text/x-python",
   "name": "python",
   "nbconvert_exporter": "python",
   "pygments_lexer": "ipython3",
   "version": "3.8.13"
  }
 },
 "nbformat": 4,
 "nbformat_minor": 5
}
