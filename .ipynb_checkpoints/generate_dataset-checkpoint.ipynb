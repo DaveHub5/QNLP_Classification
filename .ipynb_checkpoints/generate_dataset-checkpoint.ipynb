{
 "cells": [
  {
   "cell_type": "code",
   "execution_count": 1,
   "id": "3aa088de-cb01-4653-b7d2-4d3cb80cf386",
   "metadata": {},
   "outputs": [],
   "source": [
    "names = ['John', 'Mary', 'Bob', 'Louis', 'Igor', 'Mike', 'Patricia', 'James', 'Lisa', 'Ashley', 'Carol', 'Brenda']\n",
    "verbs = ['is', 'are', 'have', 'has', 'be']\n",
    "positive_adjectives = ['cheerful', 'contented', 'delighted', 'glad', 'satisfied', 'thrilled', 'pleased']\n",
    "negative_adjectives = ['unhappy', 'bitter', 'dismal', 'heartbroken', 'melancholy', 'mournful', 'somber', 'sorrowful']\n",
    "connectors = ['and']\n",
    "relatives = ['who']\n",
    "determiners = ['a', 'an']\n",
    "auxiliars = ['will', 'might']\n",
    "objects = ['kid', 'plant', 'sofa', 'swimming pool', 'garden', 'disease', 'car', 'smartphone']"
   ]
  },
  {
   "cell_type": "code",
   "execution_count": 2,
   "id": "d263fdda-d896-4de5-ab2b-645fa42ae11e",
   "metadata": {},
   "outputs": [],
   "source": [
    "import random\n",
    "import pandas as pd\n",
    "\n",
    "def generate_dataset_1(names, verbs, positive_adjectives, negative_adjectives):\n",
    "    labels = []\n",
    "    sentences = []\n",
    "    sep = ' '\n",
    "    for name in names:\n",
    "        for pos_adj in positive_adjectives:\n",
    "            sentence = name + sep + verbs[0] + sep + pos_adj + sep + '.'\n",
    "            label = 1\n",
    "            sentences.append(sentence)\n",
    "            labels.append(label)\n",
    "        for neg_adj in negative_adjectives:\n",
    "            sentence = name + sep + verbs[0] + sep + neg_adj + sep + '.'\n",
    "            label = 0\n",
    "            sentences.append(sentence)\n",
    "            labels.append(label)\n",
    "    return labels, sentences\n",
    "\n",
    "def generate_dataset_2(names, verbs, positive_adjectives, negative_adjectives, auxiliars):\n",
    "    labels = []\n",
    "    sentences = []\n",
    "    sep = ' '\n",
    "    for name in names:\n",
    "        for aux in auxiliars:\n",
    "            for pos_adj in positive_adjectives:\n",
    "                sentence = name + sep + aux + sep + verbs[4] + sep + pos_adj + sep + '.'\n",
    "                label = 1\n",
    "                sentences.append(sentence)\n",
    "                labels.append(label)\n",
    "            for neg_adj in negative_adjectives:\n",
    "                sentence = name + sep + aux + sep + verbs[4] + sep + neg_adj + sep + '.'\n",
    "                label = 0\n",
    "                sentences.append(sentence)\n",
    "                labels.append(label)\n",
    "    return labels, sentences\n",
    "\n",
    "\n",
    "def generate_dataset_3(names, verbs, positive_adjectives, negative_adjectives, connectors):\n",
    "    labels = []\n",
    "    sentences = []\n",
    "    sep = ' '\n",
    "    for name1 in names:\n",
    "        for name2 in names:\n",
    "            if name1 != name2:  \n",
    "                for pos_adj in positive_adjectives:\n",
    "                    sentence = name1 + sep + connectors[0] + sep + name2 + sep + verbs[1] + sep + pos_adj + sep + '.'\n",
    "                    label = 1\n",
    "                    sentences.append(sentence)\n",
    "                    labels.append(label)\n",
    "                for neg_adj in negative_adjectives:\n",
    "                    sentence = name1 + sep + connectors[0] + sep + name2 + sep + verbs[1] + sep + neg_adj + sep + '.'\n",
    "                    label = 0\n",
    "                    sentences.append(sentence)\n",
    "                    labels.append(label)\n",
    "    return labels, sentences\n",
    "\n",
    "def generate_dataset_4(names, verbs, positive_adjectives, negative_adjectives, relatives, determiners, objects):\n",
    "    labels = []\n",
    "    sentences = []\n",
    "    sep = ' '\n",
    "    for name in names:\n",
    "        for obj in objects:\n",
    "            for pos_adj in positive_adjectives:\n",
    "                sentence = name + sep + relatives[0] + sep + verbs[3] + sep + determiners[0] + \\\n",
    "                sep + obj  + sep + verbs[0]  + sep + pos_adj + sep + '.'\n",
    "                label = 1\n",
    "                sentences.append(sentence)\n",
    "                labels.append(label)\n",
    "            for neg_adj in negative_adjectives:\n",
    "                sentence = name + sep + relatives[0] + sep + verbs[3] + sep + determiners[0] +  \\\n",
    "                sep + obj  + sep + verbs[0] + sep + neg_adj + sep + '.'\n",
    "                label = 0\n",
    "                sentences.append(sentence)\n",
    "                labels.append(label)\n",
    "    return labels, sentences\n",
    "\n",
    "def generate_dataset_5(names, verbs, positive_adjectives, negative_adjectives, relatives, determiners, objects, connectors):\n",
    "    labels = []\n",
    "    sentences = []\n",
    "    sep = ' '\n",
    "    for name in names:\n",
    "        for obj1 in objects:\n",
    "            for obj2 in objects:\n",
    "                if obj1 != obj2:\n",
    "                    for pos_adj in positive_adjectives:\n",
    "                        sentence = name + sep + relatives[0] + sep + verbs[3] + sep + determiners[0] +  \\\n",
    "                        sep + obj1 + sep + connectors[0] + sep + determiners[0] + sep + obj2 + sep + verbs[0] + sep + pos_adj + sep + '.'\n",
    "                        label = 1\n",
    "                        sentences.append(sentence)\n",
    "                        labels.append(label)\n",
    "                    for neg_adj in negative_adjectives:\n",
    "                        sentence = name + sep + relatives[0] + sep + verbs[3] + sep + determiners[0] +  \\\n",
    "                        sep + obj1 + sep + connectors[0] + sep + determiners[0] + sep + obj2 + sep + verbs[0] + sep + neg_adj + sep + '.'\n",
    "                        label = 0\n",
    "                        sentences.append(sentence)\n",
    "                        labels.append(label)\n",
    "    return labels, sentences"
   ]
  },
  {
   "cell_type": "code",
   "execution_count": 3,
   "id": "0ebeaabf-e044-481f-8858-8daaee76ba2e",
   "metadata": {},
   "outputs": [
    {
     "name": "stdout",
     "output_type": "stream",
     "text": [
      "End Generating Dataset\n"
     ]
    }
   ],
   "source": [
    "labels, sentences = generate_dataset_1(names, verbs, positive_adjectives, negative_adjectives)\n",
    "d = { 'labels': labels, 'sentences': sentences}\n",
    "df = pd.DataFrame(d)\n",
    "df_negative = df[df['labels'] == 0]\n",
    "df_positive = df[df['labels'] == 1]\n",
    "df_negative = df_negative.sample(frac=1).reset_index(drop=True)\n",
    "df_positive = df_positive.sample(frac=1).reset_index(drop=True)\n",
    "df.to_csv('../examples/datasets/new_data1.csv', index=False)\n",
    "df_negative.to_csv('../examples/datasets/new_data1_neg.csv', index=False)\n",
    "df_positive.to_csv('../examples/datasets/new_data1_pos.csv', index=False)\n",
    "print('End Generating Dataset')"
   ]
  },
  {
   "cell_type": "code",
   "execution_count": 4,
   "id": "fda8444a-9881-49d5-9ce4-d05682f421a2",
   "metadata": {},
   "outputs": [
    {
     "name": "stdout",
     "output_type": "stream",
     "text": [
      "End Generating Dataset\n"
     ]
    }
   ],
   "source": [
    "labels, sentences = generate_dataset_2(names, verbs, positive_adjectives, negative_adjectives, auxiliars)\n",
    "d = { 'labels': labels, 'sentences': sentences}\n",
    "df = pd.DataFrame(d)\n",
    "df_negative = df[df['labels'] == 0]\n",
    "df_positive = df[df['labels'] == 1]\n",
    "df_negative = df_negative.sample(frac=1).reset_index(drop=True)\n",
    "df_positive = df_positive.sample(frac=1).reset_index(drop=True)\n",
    "df.to_csv('../examples/datasets/new_data2.csv', index=False)\n",
    "df_negative.to_csv('../examples/datasets/new_data2_neg.csv', index=False)\n",
    "df_positive.to_csv('../examples/datasets/new_data2_pos.csv', index=False)\n",
    "print('End Generating Dataset')"
   ]
  },
  {
   "cell_type": "code",
   "execution_count": 5,
   "id": "3974149c-a16f-46c3-a9bf-9d72ba2d476b",
   "metadata": {},
   "outputs": [
    {
     "name": "stdout",
     "output_type": "stream",
     "text": [
      "End Generating Dataset\n"
     ]
    }
   ],
   "source": [
    "labels, sentences = generate_dataset_3(names, verbs, positive_adjectives, negative_adjectives, connectors)\n",
    "d = { 'labels': labels, 'sentences': sentences}\n",
    "df = pd.DataFrame(d)\n",
    "df_negative = df[df['labels'] == 0]\n",
    "df_positive = df[df['labels'] == 1]\n",
    "df_negative = df_negative.sample(frac=1).reset_index(drop=True)\n",
    "df_positive = df_positive.sample(frac=1).reset_index(drop=True)\n",
    "df.to_csv('../examples/datasets/new_data3.csv', index=False)\n",
    "df_negative.to_csv('../examples/datasets/new_data3_neg.csv', index=False)\n",
    "df_positive.to_csv('../examples/datasets/new_data3_pos.csv', index=False)\n",
    "print('End Generating Dataset')"
   ]
  },
  {
   "cell_type": "code",
   "execution_count": 6,
   "id": "b9aebea9-b2ca-44e9-b0b2-6047140b89af",
   "metadata": {},
   "outputs": [
    {
     "name": "stdout",
     "output_type": "stream",
     "text": [
      "End Generating Dataset\n"
     ]
    }
   ],
   "source": [
    "labels, sentences = generate_dataset_4(names, verbs, positive_adjectives, negative_adjectives, relatives, determiners, objects)\n",
    "d = { 'labels': labels, 'sentences': sentences}\n",
    "df = pd.DataFrame(d)\n",
    "df_negative = df[df['labels'] == 0]\n",
    "df_positive = df[df['labels'] == 1]\n",
    "df_negative = df_negative.sample(frac=1).reset_index(drop=True)\n",
    "df_positive = df_positive.sample(frac=1).reset_index(drop=True)\n",
    "df.to_csv('../examples/datasets/new_data4.csv', index=False)\n",
    "df_negative.to_csv('../examples/datasets/new_data4_neg.csv', index=False)\n",
    "df_positive.to_csv('../examples/datasets/new_data4_pos.csv', index=False)\n",
    "print('End Generating Dataset')"
   ]
  },
  {
   "cell_type": "code",
   "execution_count": 7,
   "id": "42723fe6-9ac0-428a-b9c6-dffa5bcbc8e9",
   "metadata": {},
   "outputs": [
    {
     "name": "stdout",
     "output_type": "stream",
     "text": [
      "End Generating Dataset\n"
     ]
    }
   ],
   "source": [
    "labels, sentences = generate_dataset_5(names, verbs, positive_adjectives, negative_adjectives, relatives, determiners, objects, connectors)\n",
    "d = { 'labels': labels, 'sentences': sentences}\n",
    "df = pd.DataFrame(d)\n",
    "df_negative = df[df['labels'] == 0]\n",
    "df_positive = df[df['labels'] == 1]\n",
    "df_negative = df_negative.sample(frac=1).reset_index(drop=True)\n",
    "df_positive = df_positive.sample(frac=1).reset_index(drop=True)\n",
    "df.to_csv('../examples/datasets/new_data5.csv', index=False)\n",
    "df_negative.to_csv('../examples/datasets/new_data5_neg.csv', index=False)\n",
    "df_positive.to_csv('../examples/datasets/new_data5_pos.csv', index=False)\n",
    "print('End Generating Dataset')"
   ]
  },
  {
   "cell_type": "markdown",
   "id": "a7c9f97b-36a8-4ec7-b30c-9c2d88332e6c",
   "metadata": {},
   "source": [
    "connector --> 'and', 'but', 'however', 'if', 'that', 'whether'\n",
    "\n",
    "determiner --> 'a', 'an', 'the'\n",
    "\n",
    "rel_pronoun --> 'that', 'which', 'who', 'whom', 'whose'\n",
    "\n",
    "auxiliary --> 'am', 'are', 'be', 'been', 'being', 'is', 'was', 'were',\n",
    "               'did', 'do', 'does',\n",
    "               \"'d\", 'had', 'has', 'have',\n",
    "               'may', 'might',\n",
    "               'will'\n",
    "\n",
    "\n",
    "John is happy but have a disease\n",
    "name + 'and'? + name? + are/is + sentiment + 'but' + has + a/an + object\n",
    "He always looks good, however he dresses."
   ]
  },
  {
   "cell_type": "code",
   "execution_count": null,
   "id": "350fd3c0-79e1-44c6-b8f8-bf604218ce40",
   "metadata": {},
   "outputs": [],
   "source": []
  }
 ],
 "metadata": {
  "kernelspec": {
   "display_name": "lambeq",
   "language": "python",
   "name": "lambeq"
  },
  "language_info": {
   "codemirror_mode": {
    "name": "ipython",
    "version": 3
   },
   "file_extension": ".py",
   "mimetype": "text/x-python",
   "name": "python",
   "nbconvert_exporter": "python",
   "pygments_lexer": "ipython3",
   "version": "3.8.13"
  }
 },
 "nbformat": 4,
 "nbformat_minor": 5
}
